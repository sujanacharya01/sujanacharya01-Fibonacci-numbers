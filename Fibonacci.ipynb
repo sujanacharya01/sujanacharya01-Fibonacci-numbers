{
 "cells": [
  {
   "cell_type": "code",
   "execution_count": null,
   "id": "b144738e",
   "metadata": {},
   "outputs": [],
   "source": []
  },
  {
   "cell_type": "code",
   "execution_count": 25,
   "id": "135acb68",
   "metadata": {},
   "outputs": [
    {
     "name": "stdout",
     "output_type": "stream",
     "text": [
      "0 1 1 2 3 5 8 13 21 34 "
     ]
    }
   ],
   "source": [
    "# Write a Python program to get the Fibonacci series between 0 to 50\n",
    "\n",
    "# Note : The Fibonacci Sequence is the series of numbers :\n",
    "\n",
    "# 0, 1, 1, 2, 3, 5, 8, 13, 21, ....\n",
    "\n",
    "# Every next number is found by adding up the two numbers before it.\n",
    "\n",
    "# Expected Output : 1 1 2 3 5 8 13 21 34\n",
    "\n",
    "n=(10)\n",
    "\n",
    "if n==1:\n",
    "    print(0,end=\" \")\n",
    "\n",
    "elif n==2:\n",
    "    print(0,end=\" \")\n",
    "    print(1,end=\" \")\n",
    "\n",
    "elif n>2:\n",
    "    a = 0\n",
    "    b = 1\n",
    "    print(a,end=\" \")\n",
    "    print(b,end=\" \")\n",
    "    \n",
    "    for i in range(2,n):\n",
    "        c=a+b\n",
    "        print(c,end=\" \")\n",
    "        a=b\n",
    "        b=c\n",
    "        \n",
    "else:\n",
    "    print(\"Invalid Input\")"
   ]
  }
 ],
 "metadata": {
  "kernelspec": {
   "display_name": "Python 3 (ipykernel)",
   "language": "python",
   "name": "python3"
  },
  "language_info": {
   "codemirror_mode": {
    "name": "ipython",
    "version": 3
   },
   "file_extension": ".py",
   "mimetype": "text/x-python",
   "name": "python",
   "nbconvert_exporter": "python",
   "pygments_lexer": "ipython3",
   "version": "3.10.2"
  }
 },
 "nbformat": 4,
 "nbformat_minor": 5
}
